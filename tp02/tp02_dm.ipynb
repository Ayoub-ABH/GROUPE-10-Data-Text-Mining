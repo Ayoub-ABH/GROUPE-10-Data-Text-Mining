{
  "nbformat": 4,
  "nbformat_minor": 0,
  "metadata": {
    "colab": {
      "provenance": []
    },
    "kernelspec": {
      "name": "python3",
      "display_name": "Python 3"
    },
    "language_info": {
      "name": "python"
    }
  },
  "cells": [
    {
      "cell_type": "markdown",
      "source": [
        "# **Logistic Regression**\n",
        "Dans cette partie de l'exercice, vous allez construire un modèle de régression logistique\n",
        "pour prédire si un étudiant sera admis dans une université."
      ],
      "metadata": {
        "id": "gMfcXFlbc5_Y"
      }
    },
    {
      "cell_type": "code",
      "source": [
        "import matplotlib.pyplot as plt\n",
        "import numpy as np\n",
        "import pandas as pd\n",
        "\n",
        "\n",
        "TP2_ex2data1 = pd.read_csv(\"/content/data/TP2_ex2data1.txt\");\n",
        "TP2_ex2data1.columns = [\"X1\",\"X2\",\"Y\"];\n",
        "X1= TP2_ex2data1.loc[:,\"X1\"];\n",
        "X2= TP2_ex2data1.loc[:,\"X2\"];\n",
        "Y= TP2_ex2data1.loc[:,\"Y\"];\n",
        "\n",
        "# plt.scatter(X1, X2, marker='*', color='red', label='validé')\n",
        "# plt.scatter(X1, X2,marker='+', color='blue', label='rejeté')\n",
        "# plt.xlabel(\"Examen 1\")\n",
        "# plt.ylabel(\"Examen 2\")\n",
        "# plt.title('Scatter plot of training data')\n",
        "# plt.legend()\n",
        "# plt.show()\n",
        "\n",
        "\n",
        "fig, ax = plt.subplots()\n",
        "ax.scatter(X1, X2,c=Y)\n",
        "\n",
        "ax.set_xlabel(\"exam score 1\")\n",
        "ax.set_ylabel(\"exam scorev\")\n",
        "plt.show()\n"
      ],
      "metadata": {
        "colab": {
          "base_uri": "https://localhost:8080/",
          "height": 279
        },
        "id": "HGmx97cReU7U",
        "outputId": "d6c9f930-aa42-4298-ed4e-efeced6a82c8"
      },
      "execution_count": null,
      "outputs": [
        {
          "output_type": "display_data",
          "data": {
            "text/plain": [
              "<Figure size 432x288 with 1 Axes>"
            ],
            "image/png": "[encoded data removed]"
          },
          "metadata": {
            "needs_background": "light"
          }
        }
      ]
    },
    {
      "cell_type": "code",
      "source": [
        "def sigmoid(z):\n",
        "    return 1.0/(1 + np.exp(-z))"
      ],
      "metadata": {
        "id": "1f8bd_Otfuq5"
      },
      "execution_count": null,
      "outputs": []
    },
    {
      "cell_type": "code",
      "source": [
        "# def cost_function(theta, X, y):\n",
        "#     m = len(y)\n",
        "#     h = sigmoid(np.dot(X, theta))\n",
        "#     J = (-1/m) * (np.dot(y.T, np.log(h)) + np.dot((1-y).T, np.log(1-h)))\n",
        "#     return J\n",
        "def cost_function(theta, X, y):\n",
        "    m = y.size\n",
        "    eps = 1e-9\n",
        "    h = sigmoid(X.dot(theta))\n",
        "    h = np.clip(h, eps, 1-eps)\n",
        "    J = (1/m)*np.sum(-y*np.log(h) - (1-y)*np.log(1-h))\n",
        "    return J\n",
        "  \n",
        "def gradient(theta, X, y):\n",
        "    m = len(y)\n",
        "    h = sigmoid(np.dot(X, theta))\n",
        "    grad = (1/m) * np.dot(X.T, (h - y))\n",
        "    return grad\n"
      ],
      "metadata": {
        "id": "vhQPr_bpVuQe"
      },
      "execution_count": null,
      "outputs": []
    },
    {
      "cell_type": "code",
      "source": [
        "alpha = 0.01               \n",
        "X = np.array([[1, x1, x2] for x1, x2 in zip(X1, X2)])   \n",
        "y = np.array([Y]).T                              \n",
        "\n",
        "theta_optimal = np.zeros((X.shape[1], 1))  \n",
        "\n",
        "for i in range(1500):\n",
        "    theta_optimal = theta_optimal - alpha * gradient(theta_optimal, X, y)\n",
        "\n",
        "J = cost_function(theta_optimal, X, y)\n",
        "print(J)  \n"
      ],
      "metadata": {
        "colab": {
          "base_uri": "https://localhost:8080/"
        },
        "id": "7Bmk88UdVvd3",
        "outputId": "011341ee-2772-4216-9d51-ec5d48ca5054"
      },
      "execution_count": null,
      "outputs": [
        {
          "output_type": "stream",
          "name": "stdout",
          "text": [
            "[[nan]]\n"
          ]
        },
        {
          "output_type": "stream",
          "name": "stderr",
          "text": [
            "<ipython-input-12-2f358961ceb9>:5: RuntimeWarning: divide by zero encountered in log\n",
            "  J = (-1/m) * (np.dot(y.T, np.log(h)) + np.dot((1-y).T, np.log(1-h)))\n"
          ]
        }
      ]
    }
  ]
}