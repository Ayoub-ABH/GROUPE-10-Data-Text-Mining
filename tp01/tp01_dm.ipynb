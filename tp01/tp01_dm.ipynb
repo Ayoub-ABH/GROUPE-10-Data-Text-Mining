{
  "nbformat": 4,
  "nbformat_minor": 0,
  "metadata": {
    "colab": {
      "provenance": []
    },
    "kernelspec": {
      "name": "python3",
      "display_name": "Python 3"
    },
    "language_info": {
      "name": "python"
    }
  },
  "cells": [
    {
      "cell_type": "markdown",
      "source": [
        "##la régression linéaire \n",
        "Dans cet exercice, vous allez mettre en oeuvre la régression linéaire et voir comment elle\n",
        "fonctionne sur des données.\n",
        "\n",
        "\n",
        "\n",
        "1. **Régression linéaire avec une seule variable:**\n",
        "\n"
      ],
      "metadata": {
        "id": "BIty7USrW2Vs"
      }
    },
    {
      "cell_type": "code",
      "execution_count": null,
      "metadata": {
        "colab": {
          "base_uri": "https://localhost:8080/",
          "height": 280
        },
        "id": "gHpFbJ9gUoWA",
        "outputId": "b0d61feb-2e4b-452c-aaa1-31315a45020b"
      },
      "outputs": [
        {
          "output_type": "display_data",
          "data": {
            "text/plain": [
              "<Figure size 432x288 with 1 Axes>"
            ],
            "image/png": "[encoded data removed]"
          },
          "metadata": {
            "needs_background": "light"
          }
        }
      ],
      "source": [
        "import matplotlib.pyplot as plt\n",
        "import numpy as np\n",
        "import pandas as pd\n",
        "import os\n",
        "\n",
        "ex1data1 = pd.read_csv(\"/content/data/ex1data1.txt\");\n",
        "ex1data1.columns = [\"X\",\"Y\"];\n",
        "X= ex1data1.loc[:,\"X\"];\n",
        "Y= ex1data1.loc[:,\"Y\"];\n",
        "\n",
        "fig, ax = plt.subplots()\n",
        "ax.scatter(X, Y,marker=\"+\",c=\"red\")\n",
        "ax.set_xlabel(\"Profit in $10,000s\")\n",
        "ax.set_ylabel(\"Population of city in s10,000\")\n",
        "plt.show()"
      ]
    },
    {
      "cell_type": "code",
      "source": [
        "def hteta(x,teta0,teta1):\n",
        "  return teta1 * x + teta0\n",
        "\n",
        "def drive0(x,y,m,teta0,teta1):\n",
        "   sumd =0\n",
        "   for i in range(m):\n",
        "      sumd= sumd+(hteta(x[i],teta1,teta0) - y[i])\n",
        "   return sumd\n",
        "\n",
        "def drive1(x,y,m,teta0,teta1):\n",
        "   sumd =0\n",
        "   for i in range(m):\n",
        "      sumd= sumd+((hteta(x[i],teta1,teta0) - y[i]) * x[i])\n",
        "   return sumd\n",
        "\n",
        "def gradiantDescent2(x,y,m):\n",
        "  teta0_cal=teta1_cal=0\n",
        "  for i in range(1000):\n",
        "    teta0_cal = teta0_cal - (((0.000014) * drive0(x,y,m,teta0_cal,teta1_cal))/m)\n",
        "    teta1_cal = teta1_cal - (((0.000014) * drive1(x,y,m,teta0_cal,teta1_cal))/m)\n",
        "  return teta0_cal,teta1_cal\n",
        "\n",
        "t0,t1 = gradiantDescent2(X,Y,X.count());\n",
        "print(hteta(4,t0,t1));\n",
        "# print(hteta(70000,t0,t1));\n"
      ],
      "metadata": {
        "colab": {
          "base_uri": "https://localhost:8080/"
        },
        "id": "6QpdyUVkc-oL",
        "outputId": "3a00493d-900d-4eee-fde0-14b52ecd0a02"
      },
      "execution_count": null,
      "outputs": [
        {
          "output_type": "stream",
          "name": "stdout",
          "text": [
            "3.3420481628998657\n"
          ]
        }
      ]
    },
    {
      "cell_type": "code",
      "source": [
        "Ynew = hteta(X,t0,t1)\n",
        "plt.scatter(X, Y,marker=\"+\",c=\"red\")\n",
        "plt.plot(X,Ynew)\n",
        "plt.show();"
      ],
      "metadata": {
        "colab": {
          "base_uri": "https://localhost:8080/",
          "height": 266
        },
        "id": "iueCxdxPv1oK",
        "outputId": "903ffbc6-9ffa-4ecf-d4bd-a5903717fae2"
      },
      "execution_count": null,
      "outputs": [
        {
          "output_type": "display_data",
          "data": {
            "text/plain": [
              "<Figure size 432x288 with 1 Axes>"
            ],
            "image/png": "[encoded data removed]"
          },
          "metadata": {
            "needs_background": "light"
          }
        }
      ]
    },
    {
      "cell_type": "markdown",
      "source": [
        "## Linear regression with multiple variables"
      ],
      "metadata": {
        "id": "FfOkW0CReMSu"
      }
    },
    {
      "cell_type": "code",
      "source": [
        "ex1data2 = pd.read_csv(\"/content/data/ex1data2.txt\");\n",
        "ex1data2.columns = [\"taille\",\"nombre_chambre\",\"prix\"];\n",
        "\n",
        "print(\"---moyenne de colonne--- \\n\",ex1data2.mean(),\"\\n\")\n",
        "print(\"---ecart type de chaque colonne--- \\n\",ex1data2.std(),\"\\n\")"
      ],
      "metadata": {
        "id": "mZ2VSYgNgEsi",
        "colab": {
          "base_uri": "https://localhost:8080/"
        },
        "outputId": "f530e972-1b51-42a2-9cd5-372181bcb6b5"
      },
      "execution_count": null,
      "outputs": [
        {
          "output_type": "stream",
          "name": "stdout",
          "text": [
            "---moyenne de colonne--- \n",
            " taille              1998.434783\n",
            "nombre_chambre         3.173913\n",
            "prix              339119.456522\n",
            "dtype: float64 \n",
            "\n",
            "---ecart type de chaque colonne--- \n",
            " taille               803.333019\n",
            "nombre_chambre         0.768963\n",
            "prix              126103.418369\n",
            "dtype: float64 \n",
            "\n"
          ]
        }
      ]
    },
    {
      "cell_type": "code",
      "source": [
        "NormaliseDf = ex1data2.div(ex1data2.std())\n",
        "NormaliseDf"
      ],
      "metadata": {
        "id": "6QsXSKZKO3r8"
      },
      "execution_count": null,
      "outputs": []
    },
    {
      "cell_type": "code",
      "source": [
        "def gradiantDescent3(x1,x2,y,m):\n",
        "  teta0_cal=teta1_cal=teta2_cal=0\n",
        "  for i in range(1000):\n",
        "    teta0_cal = teta0_cal - (((0.000014)/m) * drive0(x1,y,m,teta0_cal,teta1_cal))\n",
        "    teta1_cal = teta1_cal - (((0.000014)/m) * drive1(x1,y,m,teta0_cal,teta1_cal))\n",
        "    teta2_cal = teta2_cal - (((0.000014)/m) * drive1(x2,y,m,teta0_cal,teta1_cal))\n",
        "  return teta0_cal,teta1_cal,teta2_cal"
      ],
      "metadata": {
        "id": "a99mnWX2WtSu"
      },
      "execution_count": null,
      "outputs": []
    },
    {
      "cell_type": "code",
      "source": [],
      "metadata": {
        "id": "gQ3tjVwci2OT"
      },
      "execution_count": null,
      "outputs": []
    }
  ]
}